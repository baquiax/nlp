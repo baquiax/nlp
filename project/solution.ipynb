{
 "cells": [
  {
   "cell_type": "markdown",
   "metadata": {},
   "source": [
    "```\n",
    "Alexander Baquiax\n",
    "12007988\n",
    "```"
   ]
  },
  {
   "cell_type": "code",
   "execution_count": 3,
   "metadata": {},
   "outputs": [],
   "source": [
    "import numpy as np\n",
    "import pandas as pd"
   ]
  },
  {
   "cell_type": "code",
   "execution_count": 205,
   "metadata": {},
   "outputs": [
    {
     "data": {
      "text/html": [
       "<div>\n",
       "<style scoped>\n",
       "    .dataframe tbody tr th:only-of-type {\n",
       "        vertical-align: middle;\n",
       "    }\n",
       "\n",
       "    .dataframe tbody tr th {\n",
       "        vertical-align: top;\n",
       "    }\n",
       "\n",
       "    .dataframe thead th {\n",
       "        text-align: right;\n",
       "    }\n",
       "</style>\n",
       "<table border=\"1\" class=\"dataframe\">\n",
       "  <thead>\n",
       "    <tr style=\"text-align: right;\">\n",
       "      <th></th>\n",
       "      <th>Bonos</th>\n",
       "      <th>Acciones</th>\n",
       "      <th>Mercado Monetario</th>\n",
       "    </tr>\n",
       "  </thead>\n",
       "  <tbody>\n",
       "    <tr>\n",
       "      <th>0</th>\n",
       "      <td>20.2553</td>\n",
       "      <td>262.935</td>\n",
       "      <td>100.00</td>\n",
       "    </tr>\n",
       "    <tr>\n",
       "      <th>1</th>\n",
       "      <td>25.6860</td>\n",
       "      <td>268.730</td>\n",
       "      <td>102.33</td>\n",
       "    </tr>\n",
       "    <tr>\n",
       "      <th>2</th>\n",
       "      <td>23.4297</td>\n",
       "      <td>284.090</td>\n",
       "      <td>105.33</td>\n",
       "    </tr>\n",
       "    <tr>\n",
       "      <th>3</th>\n",
       "      <td>28.7463</td>\n",
       "      <td>289.162</td>\n",
       "      <td>108.89</td>\n",
       "    </tr>\n",
       "    <tr>\n",
       "      <th>4</th>\n",
       "      <td>33.4484</td>\n",
       "      <td>299.894</td>\n",
       "      <td>113.08</td>\n",
       "    </tr>\n",
       "  </tbody>\n",
       "</table>\n",
       "</div>"
      ],
      "text/plain": [
       "     Bonos  Acciones  Mercado Monetario\n",
       "0  20.2553   262.935             100.00\n",
       "1  25.6860   268.730             102.33\n",
       "2  23.4297   284.090             105.33\n",
       "3  28.7463   289.162             108.89\n",
       "4  33.4484   299.894             113.08"
      ]
     },
     "execution_count": 205,
     "metadata": {},
     "output_type": "execute_result"
    }
   ],
   "source": [
    "data = pd.read_csv('data1.csv')\n",
    "data = data.drop(data.columns[0], axis=1)\n",
    "## show only first 4 elements\n",
    "## data = data.iloc[:4]\n",
    "data.head()"
   ]
  },
  {
   "cell_type": "markdown",
   "metadata": {},
   "source": [
    "### Tasa de rendimientos"
   ]
  },
  {
   "cell_type": "code",
   "execution_count": 206,
   "metadata": {},
   "outputs": [
    {
     "data": {
      "text/html": [
       "<div>\n",
       "<style scoped>\n",
       "    .dataframe tbody tr th:only-of-type {\n",
       "        vertical-align: middle;\n",
       "    }\n",
       "\n",
       "    .dataframe tbody tr th {\n",
       "        vertical-align: top;\n",
       "    }\n",
       "\n",
       "    .dataframe thead th {\n",
       "        text-align: right;\n",
       "    }\n",
       "</style>\n",
       "<table border=\"1\" class=\"dataframe\">\n",
       "  <thead>\n",
       "    <tr style=\"text-align: right;\">\n",
       "      <th></th>\n",
       "      <th>Bonos</th>\n",
       "      <th>Acciones</th>\n",
       "      <th>Mercado Monetario</th>\n",
       "    </tr>\n",
       "  </thead>\n",
       "  <tbody>\n",
       "    <tr>\n",
       "      <th>0</th>\n",
       "      <td>0.268113</td>\n",
       "      <td>0.022040</td>\n",
       "      <td>0.023300</td>\n",
       "    </tr>\n",
       "    <tr>\n",
       "      <th>1</th>\n",
       "      <td>-0.087842</td>\n",
       "      <td>0.057158</td>\n",
       "      <td>0.029317</td>\n",
       "    </tr>\n",
       "    <tr>\n",
       "      <th>2</th>\n",
       "      <td>0.226917</td>\n",
       "      <td>0.017853</td>\n",
       "      <td>0.033799</td>\n",
       "    </tr>\n",
       "    <tr>\n",
       "      <th>3</th>\n",
       "      <td>0.163572</td>\n",
       "      <td>0.037114</td>\n",
       "      <td>0.038479</td>\n",
       "    </tr>\n",
       "    <tr>\n",
       "      <th>4</th>\n",
       "      <td>0.123560</td>\n",
       "      <td>0.009340</td>\n",
       "      <td>0.043244</td>\n",
       "    </tr>\n",
       "  </tbody>\n",
       "</table>\n",
       "</div>"
      ],
      "text/plain": [
       "      Bonos  Acciones  Mercado Monetario\n",
       "0  0.268113  0.022040           0.023300\n",
       "1 -0.087842  0.057158           0.029317\n",
       "2  0.226917  0.017853           0.033799\n",
       "3  0.163572  0.037114           0.038479\n",
       "4  0.123560  0.009340           0.043244"
      ]
     },
     "execution_count": 206,
     "metadata": {},
     "output_type": "execute_result"
    }
   ],
   "source": [
    "r = pd.DataFrame(columns=data.columns)\n",
    "\n",
    "for i in range(1, len(data)):\n",
    "        new_row = (data.iloc[i] - data.iloc[i-1]) / data.iloc[i-1]\n",
    "        r = r.append(new_row, ignore_index=True)\n",
    "\n",
    "r.head()"
   ]
  },
  {
   "cell_type": "markdown",
   "metadata": {},
   "source": [
    "### Tasa de rendimiento promedio"
   ]
  },
  {
   "cell_type": "code",
   "execution_count": 207,
   "metadata": {},
   "outputs": [
    {
     "data": {
      "text/html": [
       "<div>\n",
       "<style scoped>\n",
       "    .dataframe tbody tr th:only-of-type {\n",
       "        vertical-align: middle;\n",
       "    }\n",
       "\n",
       "    .dataframe tbody tr th {\n",
       "        vertical-align: top;\n",
       "    }\n",
       "\n",
       "    .dataframe thead th {\n",
       "        text-align: right;\n",
       "    }\n",
       "</style>\n",
       "<table border=\"1\" class=\"dataframe\">\n",
       "  <thead>\n",
       "    <tr style=\"text-align: right;\">\n",
       "      <th></th>\n",
       "      <th>Bonos</th>\n",
       "      <th>Acciones</th>\n",
       "      <th>Mercado Monetario</th>\n",
       "    </tr>\n",
       "  </thead>\n",
       "  <tbody>\n",
       "    <tr>\n",
       "      <th>0</th>\n",
       "      <td>0.120571</td>\n",
       "      <td>0.078503</td>\n",
       "      <td>0.06323</td>\n",
       "    </tr>\n",
       "  </tbody>\n",
       "</table>\n",
       "</div>"
      ],
      "text/plain": [
       "      Bonos  Acciones  Mercado Monetario\n",
       "0  0.120571  0.078503            0.06323"
      ]
     },
     "execution_count": 207,
     "metadata": {},
     "output_type": "execute_result"
    }
   ],
   "source": [
    "r_promedio = pd.DataFrame(columns=r.columns)\n",
    "r_promedio.loc[0] = r.mean()\n",
    "r_promedio.head()"
   ]
  },
  {
   "cell_type": "markdown",
   "metadata": {},
   "source": [
    "### Valor esperado del rendimiento"
   ]
  },
  {
   "cell_type": "code",
   "execution_count": 208,
   "metadata": {},
   "outputs": [
    {
     "data": {
      "text/html": [
       "<div>\n",
       "<style scoped>\n",
       "    .dataframe tbody tr th:only-of-type {\n",
       "        vertical-align: middle;\n",
       "    }\n",
       "\n",
       "    .dataframe tbody tr th {\n",
       "        vertical-align: top;\n",
       "    }\n",
       "\n",
       "    .dataframe thead th {\n",
       "        text-align: right;\n",
       "    }\n",
       "</style>\n",
       "<table border=\"1\" class=\"dataframe\">\n",
       "  <thead>\n",
       "    <tr style=\"text-align: right;\">\n",
       "      <th></th>\n",
       "      <th>Bonos</th>\n",
       "      <th>Acciones</th>\n",
       "      <th>Mercado Monetario</th>\n",
       "    </tr>\n",
       "  </thead>\n",
       "  <tbody>\n",
       "    <tr>\n",
       "      <th>0</th>\n",
       "      <td>0.107321</td>\n",
       "      <td>0.073669</td>\n",
       "      <td>0.062701</td>\n",
       "    </tr>\n",
       "  </tbody>\n",
       "</table>\n",
       "</div>"
      ],
      "text/plain": [
       "      Bonos  Acciones  Mercado Monetario\n",
       "0  0.107321  0.073669           0.062701"
      ]
     },
     "execution_count": 208,
     "metadata": {},
     "output_type": "execute_result"
    }
   ],
   "source": [
    "u = pd.DataFrame(columns=r.columns)\n",
    "\n",
    "row = [0] * len(r.columns)\n",
    "\n",
    "for i in range(len(r.columns)):\n",
    "    product = 1\n",
    "    for t in range(len(r)):\n",
    "        product *= (1 + r.iloc[t][i])\n",
    "    \n",
    "    product = (product  ** (1/len(r))) - 1\n",
    "\n",
    "    row[i] = product\n",
    "\n",
    "u = u.append(pd.Series(row, index=data.columns), ignore_index=True)\n",
    "u.head()\n"
   ]
  },
  {
   "cell_type": "markdown",
   "metadata": {},
   "source": [
    "### Varianza del rendimiento"
   ]
  },
  {
   "cell_type": "code",
   "execution_count": 209,
   "metadata": {},
   "outputs": [
    {
     "data": {
      "text/html": [
       "<div>\n",
       "<style scoped>\n",
       "    .dataframe tbody tr th:only-of-type {\n",
       "        vertical-align: middle;\n",
       "    }\n",
       "\n",
       "    .dataframe tbody tr th {\n",
       "        vertical-align: top;\n",
       "    }\n",
       "\n",
       "    .dataframe thead th {\n",
       "        text-align: right;\n",
       "    }\n",
       "</style>\n",
       "<table border=\"1\" class=\"dataframe\">\n",
       "  <thead>\n",
       "    <tr style=\"text-align: right;\">\n",
       "      <th></th>\n",
       "      <th>Bonos</th>\n",
       "      <th>Acciones</th>\n",
       "      <th>Mercado Monetario</th>\n",
       "    </tr>\n",
       "  </thead>\n",
       "  <tbody>\n",
       "    <tr>\n",
       "      <th>0</th>\n",
       "      <td>0.028443</td>\n",
       "      <td>0.011387</td>\n",
       "      <td>0.001181</td>\n",
       "    </tr>\n",
       "  </tbody>\n",
       "</table>\n",
       "</div>"
      ],
      "text/plain": [
       "      Bonos  Acciones  Mercado Monetario\n",
       "0  0.028443  0.011387           0.001181"
      ]
     },
     "execution_count": 209,
     "metadata": {},
     "output_type": "execute_result"
    }
   ],
   "source": [
    "var = pd.DataFrame(columns=r.columns)\n",
    "\n",
    "row = [0] * len(r.columns)\n",
    "\n",
    "for i in range(len(r.columns)):\n",
    "    result = 0\n",
    "    for j in range(len(r)):\n",
    "        result += (r.iloc[j][i] - r_promedio.iloc[0][i]) ** 2\n",
    "\n",
    "    result = result / (len(r) - 1)\n",
    "\n",
    "    row[i] = result\n",
    "\n",
    "var = var.append(pd.Series(row, index=data.columns), ignore_index=True)\n",
    "var.head()"
   ]
  },
  {
   "cell_type": "markdown",
   "metadata": {},
   "source": [
    "### Covarianza"
   ]
  },
  {
   "cell_type": "code",
   "execution_count": 210,
   "metadata": {},
   "outputs": [
    {
     "data": {
      "text/html": [
       "<div>\n",
       "<style scoped>\n",
       "    .dataframe tbody tr th:only-of-type {\n",
       "        vertical-align: middle;\n",
       "    }\n",
       "\n",
       "    .dataframe tbody tr th {\n",
       "        vertical-align: top;\n",
       "    }\n",
       "\n",
       "    .dataframe thead th {\n",
       "        text-align: right;\n",
       "    }\n",
       "</style>\n",
       "<table border=\"1\" class=\"dataframe\">\n",
       "  <thead>\n",
       "    <tr style=\"text-align: right;\">\n",
       "      <th></th>\n",
       "      <th>Bonos</th>\n",
       "      <th>Acciones</th>\n",
       "      <th>Mercado Monetario</th>\n",
       "    </tr>\n",
       "  </thead>\n",
       "  <tbody>\n",
       "    <tr>\n",
       "      <th>0</th>\n",
       "      <td>0.028443</td>\n",
       "      <td>0.003866</td>\n",
       "      <td>0.000207</td>\n",
       "    </tr>\n",
       "    <tr>\n",
       "      <th>1</th>\n",
       "      <td>0.003866</td>\n",
       "      <td>0.011387</td>\n",
       "      <td>-0.000195</td>\n",
       "    </tr>\n",
       "    <tr>\n",
       "      <th>2</th>\n",
       "      <td>0.000207</td>\n",
       "      <td>-0.000195</td>\n",
       "      <td>0.001181</td>\n",
       "    </tr>\n",
       "  </tbody>\n",
       "</table>\n",
       "</div>"
      ],
      "text/plain": [
       "      Bonos  Acciones Mercado Monetario\n",
       "0  0.028443  0.003866          0.000207\n",
       "1  0.003866  0.011387         -0.000195\n",
       "2  0.000207 -0.000195          0.001181"
      ]
     },
     "execution_count": 210,
     "metadata": {},
     "output_type": "execute_result"
    }
   ],
   "source": [
    "cov = pd.DataFrame(columns=r.columns, index=range(len(r.columns)))\n",
    "for i in range(0, len(r.columns)):\n",
    "        for j in range(0, len(r.columns)):\n",
    "                if i==j:\n",
    "                        cov.iloc[i,j] = var.iloc[0][j]\n",
    "                else:\n",
    "                        sum = 0\n",
    "                        for t in range(0, len(r)):\n",
    "                                sum += (r.iloc[t][i] - r_promedio.iloc[0][i]) * (r.iloc[t][j] - r_promedio.iloc[0][j])\n",
    "                        \n",
    "                        cov.iloc[i,j]= sum / len(r)\n",
    "\n",
    "cov.head()"
   ]
  },
  {
   "cell_type": "code",
   "execution_count": null,
   "metadata": {},
   "outputs": [],
   "source": []
  }
 ],
 "metadata": {
  "kernelspec": {
   "display_name": "Python 3",
   "language": "python",
   "name": "python3"
  },
  "language_info": {
   "codemirror_mode": {
    "name": "ipython",
    "version": 3
   },
   "file_extension": ".py",
   "mimetype": "text/x-python",
   "name": "python",
   "nbconvert_exporter": "python",
   "pygments_lexer": "ipython3",
   "version": "3.7.9"
  }
 },
 "nbformat": 4,
 "nbformat_minor": 2
}
