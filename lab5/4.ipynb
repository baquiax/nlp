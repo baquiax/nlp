{
 "cells": [
  {
   "cell_type": "markdown",
   "metadata": {},
   "source": [
    "```\n",
    "Alexander Baquiax\n",
    "12007988\n",
    "```"
   ]
  },
  {
   "cell_type": "code",
   "execution_count": 87,
   "metadata": {},
   "outputs": [],
   "source": [
    "from IPython.display import display, Markdown\n",
    "import numpy as np\n",
    "import math "
   ]
  },
  {
   "cell_type": "markdown",
   "metadata": {},
   "source": [
    "Defining common functions and values."
   ]
  },
  {
   "cell_type": "code",
   "execution_count": 65,
   "metadata": {},
   "outputs": [],
   "source": [
    "def get_error_threshold():\n",
    "    return 1e-8\n",
    "\n",
    "def get_max_iterations():\n",
    "    return 1000\n",
    "\n",
    "def get_alpha():\n",
    "    return 0.05\n",
    "\n",
    "def f_prime_x(x, y):\n",
    "    return 400*x**3 - 400*x*y + 2*x - 2\n",
    "\n",
    "def f_prime_y(x, y):\n",
    "    return 200*y - 200*x**2\n"
   ]
  },
  {
   "cell_type": "markdown",
   "metadata": {},
   "source": [
    "Applying Steepest Descent method to find the minimum of the problem"
   ]
  },
  {
   "cell_type": "code",
   "execution_count": 89,
   "metadata": {},
   "outputs": [],
   "source": [
    "def steepest_descent(x, y):\n",
    "    x_history = []\n",
    "    pk_history = []\n",
    "    norm_history = []\n",
    "\n",
    "    x_current = np.matrix([[x], [y]])\n",
    "\n",
    "    for i in range(get_max_iterations()):\n",
    "        x = x_current[0, 0]\n",
    "        y = x_current[1, 0]\n",
    "        \n",
    "        gradient = np.matrix([[f_prime_x(x, y)], [f_prime_y(x, y)]])\n",
    "        \n",
    "        pk = -gradient\n",
    "        pk_history.append(pk.flatten().tolist()[0])\n",
    "\n",
    "        x_next = x_current + get_alpha() * pk\n",
    "\n",
    "        error = np.linalg.norm(gradient)\n",
    "        norm_history.append(error) \n",
    "\n",
    "        if error < get_error_threshold() or math.isinf(error):\n",
    "            break\n",
    "\n",
    "        x_current = x_next\n",
    "        x_history.append(x_next.flatten().tolist()[0])\n",
    "\n",
    "    return x_current, x_history, pk_history, norm_history"
   ]
  },
  {
   "cell_type": "code",
   "execution_count": 92,
   "metadata": {},
   "outputs": [],
   "source": [
    "def get_table_for(x, y):\n",
    "    \n",
    "    result = steepest_descent(x, y)\n",
    "    \n",
    "    table = \"| k | x_k | p_k | Norm of gradient |\" + \"\\n\"\n",
    "    table += \"|---|---|------|-------|\" + \"\\n\"\n",
    "    for i in range(len(result[1])):\n",
    "        table += f\"| {i + 1} | {result[1][i]} | {list(result[2][i])} | {result[3][i]} |\" + \"\\n\"\n",
    "\n",
    "    return f\"### x_0=[{x}, {y}], x_*={result[1][i]}\\n\" + table"
   ]
  },
  {
   "cell_type": "code",
   "execution_count": 96,
   "metadata": {},
   "outputs": [
    {
     "name": "stderr",
     "output_type": "stream",
     "text": [
      "/Users/alex.baquiax/Library/Python/3.7/lib/python/site-packages/ipykernel_launcher.py:11: RuntimeWarning: overflow encountered in double_scalars\n",
      "  # This is added back by InteractiveShellApp.init_path()\n"
     ]
    },
    {
     "data": {
      "text/markdown": [
       "### x_0=[0.0, 0.0], x_*=[-1.7848515473388738e+123, 1.9970153494039608e+82]\n",
       "| k | x_k | p_k | Norm of gradient |\n",
       "|---|---|------|-------|\n",
       "| 1 | [0.1, 0.0] | [2.0, -0.0] | 2.0 |\n",
       "| 2 | [0.16999999999999998, 0.10000000000000003] | [1.4, 2.0000000000000004] | 2.441311123146741 |\n",
       "| 3 | [0.4947400000000002, -0.6110000000000004] | [6.494800000000003, -14.220000000000008] | 15.633004415018895 |\n",
       "| 4 | [-7.922383917368489, 7.9466766760000045] | [-168.34247834736976, 171.1535335200001] | 240.06816126366374 |\n",
       "| 5 | [8678.67391871237, 556.1215792577889] | [173731.92605259476, 10963.498051635775] | 174077.5126760274 |\n",
       "| 6 | [-13073350411199.648, 753188804.77917] | [-261467008397566.44, 15063764973.151814] | 261467008831496.94 |\n",
       "| 7 | [4.468797768308565e+40, 1.7091249097401403e+27] | [8.93759553661713e+41, 3.41824981948028e+28] | 8.93759553661713e+41 |\n",
       "| 8 | [-1.7848515473388738e+123, 1.9970153494039608e+82] | [-3.5697030946777474e+124, 3.9940306988079214e+83] | 3.5697030946777474e+124 |\n"
      ],
      "text/plain": [
       "<IPython.core.display.Markdown object>"
      ]
     },
     "metadata": {},
     "output_type": "display_data"
    }
   ],
   "source": [
    "table = get_table_for(0.0, 0.0)\n",
    "display(Markdown(table))"
   ]
  },
  {
   "cell_type": "markdown",
   "metadata": {},
   "source": []
  },
  {
   "cell_type": "code",
   "execution_count": 99,
   "metadata": {},
   "outputs": [
    {
     "name": "stderr",
     "output_type": "stream",
     "text": [
      "/Users/alex.baquiax/Library/Python/3.7/lib/python/site-packages/ipykernel_launcher.py:11: RuntimeWarning: overflow encountered in double_scalars\n",
      "  # This is added back by InteractiveShellApp.init_path()\n"
     ]
    },
    {
     "data": {
      "text/markdown": [
       "### x_0=[0, 1], x_*=[-8.488222116426008e+149, 1.2167214372124683e+100]\n",
       "| k | x_k | p_k | Norm of gradient |\n",
       "|---|---|------|-------|\n",
       "| 1 | [0.1, -9.0] | [2, -200] | 200.0099997500125 |\n",
       "| 2 | [-17.83, 81.10000000000001] | [-358.59999999999997, 1802.0] | 1837.3344714558643 |\n",
       "| 3 | [84430.10673999997, 2449.1889999999994] | [1688958.7347999993, 47361.77999999999] | 1689622.6638104683 |\n",
       "| 4 | [-1.2037099803700374e+16, 71284407198.57687] | [-2.4074199607569606e+17, 1425688094987.7576] | 2.4074199607991757e+17 |\n",
       "| 5 | [3.488153432996416e+49, 1.448917716842436e+33] | [6.9763068659928315e+50, 2.8978354336848714e+34] | 6.9763068659928315e+50 |\n",
       "| 6 | [-8.488222116426008e+149, 1.2167214372124683e+100] | [-1.6976444232852014e+151, 2.4334428744249365e+101] | 1.6976444232852014e+151 |\n"
      ],
      "text/plain": [
       "<IPython.core.display.Markdown object>"
      ]
     },
     "metadata": {},
     "output_type": "display_data"
    }
   ],
   "source": [
    "table = get_table_for(0, 1)\n",
    "display(Markdown(table))"
   ]
  },
  {
   "cell_type": "code",
   "execution_count": 98,
   "metadata": {},
   "outputs": [
    {
     "data": {
      "text/markdown": [
       "### x_0=[0.5, 0.5], x_*=[3.18859682787891e+93, 2.940219426405015e+62]\n",
       "| k | x_k | p_k | Norm of gradient |\n",
       "|---|---|------|-------|\n",
       "| 1 | [3.0500000000000003, -2.0] | [51.0, -50.0] | 71.42128534267638 |\n",
       "| 2 | [-686.6075000000003, 111.02500000000003] | [-13793.150000000003, 2260.5000000000005] | 13977.1544733719 |\n",
       "| 3 | [6472220309.238792, 4713299.365562505] | [129444419916.92584, 94263766.81125009] | 129444454239.21088 |\n",
       "| 4 | [-5.422379022537077e+30, 4.188963573131885e+20] | [-1.0844758045074153e+32, 8.377927146263676e+21] | 1.0844758045074153e+32 |\n",
       "| 5 | [3.18859682787891e+93, 2.940219426405015e+62] | [6.37719365575782e+94, 5.880438852810029e+63] | 6.37719365575782e+94 |\n"
      ],
      "text/plain": [
       "<IPython.core.display.Markdown object>"
      ]
     },
     "metadata": {},
     "output_type": "display_data"
    }
   ],
   "source": [
    "table = get_table_for(0.5, 0.5)\n",
    "display(Markdown(table))"
   ]
  }
 ],
 "metadata": {
  "kernelspec": {
   "display_name": "Python 3",
   "language": "python",
   "name": "python3"
  },
  "language_info": {
   "codemirror_mode": {
    "name": "ipython",
    "version": 3
   },
   "file_extension": ".py",
   "mimetype": "text/x-python",
   "name": "python",
   "nbconvert_exporter": "python",
   "pygments_lexer": "ipython3",
   "version": "3.7.9"
  }
 },
 "nbformat": 4,
 "nbformat_minor": 2
}
