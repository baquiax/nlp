{
 "cells": [
  {
   "cell_type": "markdown",
   "metadata": {},
   "source": [
    "```\n",
    "Alexander Baquiax\n",
    "12007988\n",
    "```"
   ]
  },
  {
   "cell_type": "code",
   "execution_count": 33,
   "metadata": {},
   "outputs": [],
   "source": [
    "from IPython.display import display, Markdown\n",
    "import numpy as np"
   ]
  },
  {
   "cell_type": "markdown",
   "metadata": {},
   "source": [
    "Defining common functions and values."
   ]
  },
  {
   "cell_type": "code",
   "execution_count": 10,
   "metadata": {},
   "outputs": [],
   "source": [
    "def get_error_threshold():\n",
    "    return 1e-8\n",
    "\n",
    "def f(x):\n",
    "    return 5*x**5 + 2*x**3 - 4*x**2 - 3*x + 2\n",
    "\n",
    "def f_gradient(x):\n",
    "    return 25*x**4 + 6*x**2 - 8*x -3\n",
    "\n",
    "def f_hessian(x):\n",
    "    return 100*x**3 + 12*x - 8"
   ]
  },
  {
   "cell_type": "markdown",
   "metadata": {},
   "source": [
    "Applying Newton's method to find the minimum of the problem"
   ]
  },
  {
   "cell_type": "code",
   "execution_count": 36,
   "metadata": {},
   "outputs": [],
   "source": [
    "def newton(x):\n",
    "    x_history = []\n",
    "    error_history = []\n",
    "    fx_history = []\n",
    "\n",
    "    while True:\n",
    "        x_next = x - f_gradient(x)/f_hessian(x)\n",
    "        x_history.append(x_next)\n",
    "\n",
    "        fx_history.append(f(x_next))\n",
    "        \n",
    "        current_error = abs(x_next - x)\n",
    "        error_history.append(current_error)\n",
    "\n",
    "        if current_error < get_error_threshold():\n",
    "            break\n",
    "        else:\n",
    "            x = x_next\n",
    "\n",
    "\n",
    "    return x_next, x_history, fx_history, error_history"
   ]
  },
  {
   "cell_type": "code",
   "execution_count": 43,
   "metadata": {},
   "outputs": [],
   "source": [
    "def get_table_for(x):\n",
    "    result = newton(x)\n",
    "    \n",
    "    table = \"| k | x | f(x) | error |\" + \"\\n\"\n",
    "    table += \"|---|---|------|-------|\" + \"\\n\"\n",
    "    for i in range(len(result[1])):\n",
    "        table += f\"| {i + 1} | {result[1][i]:.8f} | {result[2][i]:.8f} | {result[3][i]:.8f} |\" + \"\\n\"\n",
    "\n",
    "    return f\"### x_0={x}, x_*={result[1][i]:.8f}\\n\" + table"
   ]
  },
  {
   "cell_type": "code",
   "execution_count": 44,
   "metadata": {},
   "outputs": [
    {
     "data": {
      "text/markdown": [
       "### x_0=-2.0, x_*=-0.28989795\n",
       "| k | x | f(x) | error |\n",
       "|---|---|------|-------|\n",
       "| 1 | -1.47475962 | -43.57031792 | 0.52524038 |\n",
       "| 2 | -1.07035464 | -8.84848316 | 0.40440498 |\n",
       "| 3 | -0.75495748 | -0.10182279 | 0.31539716 |\n",
       "| 4 | -0.51230439 | 2.04173010 | 0.24265309 |\n",
       "| 5 | -0.35301813 | 2.44516677 | 0.15928626 |\n",
       "| 6 | -0.29530208 | 2.47436232 | 0.05771605 |\n",
       "| 7 | -0.28993709 | 2.47456649 | 0.00536500 |\n",
       "| 8 | -0.28989795 | 2.47456650 | 0.00003914 |\n",
       "| 9 | -0.28989795 | 2.47456650 | 0.00000000 |\n"
      ],
      "text/plain": [
       "<IPython.core.display.Markdown object>"
      ]
     },
     "metadata": {},
     "output_type": "display_data"
    },
    {
     "data": {
      "text/markdown": [
       "### x_0=-1.5, x_*=-0.28989795\n",
       "| k | x | f(x) | error |\n",
       "|---|---|------|-------|\n",
       "| 1 | -1.08992435 | -9.76193639 | 0.41007565 |\n",
       "| 2 | -0.77026216 | -0.33212526 | 0.31966218 |\n",
       "| 3 | -0.52365599 | 1.99003685 | 0.24660617 |\n",
       "| 4 | -0.35906635 | 2.43905353 | 0.16458964 |\n",
       "| 5 | -0.29638743 | 2.47427178 | 0.06267893 |\n",
       "| 6 | -0.28995441 | 2.47456648 | 0.00643301 |\n",
       "| 7 | -0.28989795 | 2.47456650 | 0.00005646 |\n",
       "| 8 | -0.28989795 | 2.47456650 | 0.00000000 |\n"
      ],
      "text/plain": [
       "<IPython.core.display.Markdown object>"
      ]
     },
     "metadata": {},
     "output_type": "display_data"
    },
    {
     "data": {
      "text/markdown": [
       "### x_0=-1.0, x_*=-0.28989795\n",
       "| k | x | f(x) | error |\n",
       "|---|---|------|-------|\n",
       "| 1 | -0.70000000 | 0.61365000 | 0.30000000 |\n",
       "| 2 | -0.47233728 | 2.19629026 | 0.22766272 |\n",
       "| 3 | -0.33345931 | 2.46082435 | 0.13887796 |\n",
       "| 4 | -0.29246772 | 2.47452045 | 0.04099159 |\n",
       "| 5 | -0.28990679 | 2.47456650 | 0.00256093 |\n",
       "| 6 | -0.28989795 | 2.47456650 | 0.00000884 |\n",
       "| 7 | -0.28989795 | 2.47456650 | 0.00000000 |\n"
      ],
      "text/plain": [
       "<IPython.core.display.Markdown object>"
      ]
     },
     "metadata": {},
     "output_type": "display_data"
    },
    {
     "data": {
      "text/markdown": [
       "### x_0=-0.5, x_*=-0.28989795\n",
       "| k | x | f(x) | error |\n",
       "|---|---|------|-------|\n",
       "| 1 | -0.34669811 | 2.45090471 | 0.15330189 |\n",
       "| 2 | -0.29427296 | 2.47443280 | 0.05242516 |\n",
       "| 3 | -0.28992359 | 2.47456649 | 0.00434937 |\n",
       "| 4 | -0.28989795 | 2.47456650 | 0.00002564 |\n",
       "| 5 | -0.28989795 | 2.47456650 | 0.00000000 |\n"
      ],
      "text/plain": [
       "<IPython.core.display.Markdown object>"
      ]
     },
     "metadata": {},
     "output_type": "display_data"
    },
    {
     "data": {
      "text/markdown": [
       "### x_0=0.0, x_*=-0.28989795\n",
       "| k | x | f(x) | error |\n",
       "|---|---|------|-------|\n",
       "| 1 | -0.37500000 | 2.41995239 | 0.37500000 |\n",
       "| 2 | -0.29971154 | 2.47389051 | 0.07528846 |\n",
       "| 3 | -0.29002724 | 2.47456638 | 0.00968430 |\n",
       "| 4 | -0.28989797 | 2.47456650 | 0.00012927 |\n",
       "| 5 | -0.28989795 | 2.47456650 | 0.00000002 |\n",
       "| 6 | -0.28989795 | 2.47456650 | 0.00000000 |\n"
      ],
      "text/plain": [
       "<IPython.core.display.Markdown object>"
      ]
     },
     "metadata": {},
     "output_type": "display_data"
    },
    {
     "data": {
      "text/markdown": [
       "### x_0=0.5, x_*=0.68989795\n",
       "| k | x | f(x) | error |\n",
       "|---|---|------|-------|\n",
       "| 1 | 0.87500000 | 0.21688843 | 0.37500000 |\n",
       "| 2 | 0.74191610 | -0.48680422 | 0.13308390 |\n",
       "| 3 | 0.69539350 | -0.53486214 | 0.04652261 |\n",
       "| 4 | 0.68996743 | -0.53536642 | 0.00542607 |\n",
       "| 5 | 0.68989796 | -0.53536650 | 0.00006947 |\n",
       "| 6 | 0.68989795 | -0.53536650 | 0.00000001 |\n",
       "| 7 | 0.68989795 | -0.53536650 | 0.00000000 |\n"
      ],
      "text/plain": [
       "<IPython.core.display.Markdown object>"
      ]
     },
     "metadata": {},
     "output_type": "display_data"
    },
    {
     "data": {
      "text/markdown": [
       "### x_0=1.0, x_*=0.68989795\n",
       "| k | x | f(x) | error |\n",
       "|---|---|------|-------|\n",
       "| 1 | 0.80769231 | -0.26002232 | 0.19230769 |\n",
       "| 2 | 0.71405678 | -0.52533303 | 0.09363553 |\n",
       "| 3 | 0.69117285 | -0.53533953 | 0.02288392 |\n",
       "| 4 | 0.68990173 | -0.53536650 | 0.00127112 |\n",
       "| 5 | 0.68989795 | -0.53536650 | 0.00000378 |\n",
       "| 6 | 0.68989795 | -0.53536650 | 0.00000000 |\n"
      ],
      "text/plain": [
       "<IPython.core.display.Markdown object>"
      ]
     },
     "metadata": {},
     "output_type": "display_data"
    },
    {
     "data": {
      "text/markdown": [
       "### x_0=1.5, x_*=0.68989795\n",
       "| k | x | f(x) | error |\n",
       "|---|---|------|-------|\n",
       "| 1 | 1.14010791 | 5.97585191 | 0.35989209 |\n",
       "| 2 | 0.89369021 | 0.40214426 | 0.24641770 |\n",
       "| 3 | 0.75077988 | -0.46793127 | 0.14291033 |\n",
       "| 4 | 0.69726113 | -0.53445846 | 0.05351874 |\n",
       "| 5 | 0.69002202 | -0.53536624 | 0.00723912 |\n",
       "| 6 | 0.68989798 | -0.53536650 | 0.00012403 |\n",
       "| 7 | 0.68989795 | -0.53536650 | 0.00000004 |\n",
       "| 8 | 0.68989795 | -0.53536650 | 0.00000000 |\n"
      ],
      "text/plain": [
       "<IPython.core.display.Markdown object>"
      ]
     },
     "metadata": {},
     "output_type": "display_data"
    }
   ],
   "source": [
    "# iterate from -2 to 2 with step of 0.5\n",
    "for i in np.arange(-2, 2, 0.5):\n",
    "    table = get_table_for(i)\n",
    "    display(Markdown(table))\n"
   ]
  },
  {
   "cell_type": "markdown",
   "metadata": {},
   "source": []
  }
 ],
 "metadata": {
  "kernelspec": {
   "display_name": "Python 3",
   "language": "python",
   "name": "python3"
  },
  "language_info": {
   "codemirror_mode": {
    "name": "ipython",
    "version": 3
   },
   "file_extension": ".py",
   "mimetype": "text/x-python",
   "name": "python",
   "nbconvert_exporter": "python",
   "pygments_lexer": "ipython3",
   "version": "3.7.9"
  }
 },
 "nbformat": 4,
 "nbformat_minor": 2
}
